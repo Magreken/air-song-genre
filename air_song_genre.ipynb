{
 "cells": [
  {
   "cell_type": "markdown",
   "source": [
    "First, we manage all imports for the code."
   ],
   "metadata": {
    "collapsed": false
   }
  },
  {
   "cell_type": "code",
   "execution_count": null,
   "id": "85666458",
   "metadata": {},
   "outputs": [],
   "source": [
    "#imports\n",
    "import pandas as pd\n",
    "import numpy as np\n",
    "import random\n",
    "import ast\n",
    "from torch import nn\n",
    "import torch\n",
    "from torch.utils.data import random_split, Subset, DataLoader\n",
    "\n",
    "import zipfile\n",
    "import os\n",
    "import shutil\n",
    "import time\n",
    "import logging"
   ]
  },
  {
   "cell_type": "markdown",
   "source": [
    "Next we process the zipped data to csv. It is stored in .zip, because it is smaller on git and then locally it is extracted to csv."
   ],
   "metadata": {
    "collapsed": false
   }
  },
  {
   "cell_type": "code",
   "execution_count": null,
   "outputs": [],
   "source": [
    "with zipfile.ZipFile(\"data/dataset.zip\", \"r\") as zip_ref:\n",
    "    zip_ref.extractall(\"data\")\n",
    "\n",
    "for file_name in os.listdir(\"data/dataset\"):\n",
    "    source = \"data/dataset/\" + file_name\n",
    "    destination = \"data/\" + file_name\n",
    "    if os.path.isfile(source): shutil.move(source, destination)\n",
    "\n",
    "os.rmdir(\"data/dataset\")\n",
    "\n",
    "\n",
    "# Initialization of different parts\n",
    "if not os.path.exists(\"log\"): os.mkdir(\"log\")\n",
    "if os.path.exists(\"log/training.log\"): os.remove(\"log/training.log\")\n",
    "logging.basicConfig(filename=\"log/training.log\", encoding=\"utf-8\", level=logging.DEBUG)\n",
    "del source, destination"
   ],
   "metadata": {
    "collapsed": false
   }
  },
  {
   "cell_type": "code",
   "execution_count": null,
   "outputs": [],
   "source": [
    "device = torch.device('cpu') #torch.device('cuda' if torch.cuda.is_available() else 'cpu') For faster training in the end\n",
    "\n",
    "class SongModel(nn.Module):\n",
    "    def __init__(self, input_size, output_size):\n",
    "        super(SongModel, self).__init__()\n",
    "        self.input_size = input_size\n",
    "        self.hidden_size = input_size * 3\n",
    "        self.output_size = output_size\n",
    "        self.layer_1 =   nn.Linear(self.input_size, self.hidden_size)\n",
    "        self.layer_2 =   nn.Linear(self.hidden_size, self.hidden_size)\n",
    "        self.layer_out = nn.Linear(self.hidden_size, self.output_size)\n",
    "        self.sigmoid =   nn.Sigmoid()\n",
    "        self.tanh =      nn.Tanh()\n",
    "        self.softmax =   nn.Softmax()\n",
    "\n",
    "        nn.init.xavier_uniform_(self.layer_1.weight)\n",
    "        nn.init.zeros_(self.layer_1.bias)\n",
    "        nn.init.xavier_uniform_(self.layer_2.weight)\n",
    "        nn.init.zeros_(self.layer_2.bias)\n",
    "        nn.init.xavier_uniform_(self.layer_out.weight)\n",
    "        nn.init.zeros_(self.layer_out.bias)\n",
    "\n",
    "\n",
    "    def forward(self, model_input):\n",
    "        x = self.sigmoid(self.layer_1(model_input))\n",
    "        x = self.tanh(self.layer_2(x))\n",
    "        x = self.softmax(self.layer_out(x))\n",
    "        return x\n",
    "\n",
    "model = SongModel(1, 3).to(device)\n",
    "optimizer = torch.optim.SGD(model.parameters(), lr=0.025)\n",
    "loss_fn = torch.nn.CrossEntropyLoss()"
   ],
   "metadata": {
    "collapsed": false
   }
  },
  {
   "cell_type": "code",
   "execution_count": null,
   "outputs": [],
   "source": [
    "def train(dataloader, model, loss_fn, optimizer):\n",
    "    max_iterations = 5000\n",
    "    dataloader_size = len(dataloader)\n",
    "    for iteration in range(max_iterations):\n",
    "        total_loss = 0\n",
    "        sample_iteration = 0\n",
    "        for sample in dataloader:\n",
    "            model_input = sample[0]\n",
    "            should = sample[1]\n",
    "            predict = model(model_input)\n",
    "            loss = loss_fn(predict, should)\n",
    "            optimizer.zero_grad()\n",
    "            loss.backward()\n",
    "            optimizer.step()\n",
    "            total_loss += loss\n",
    "            sample_iteration += 1\n",
    "            print(f\"Iteration: {iteration+1:4}, Iteration progress: {sample_iteration * 100 / dataloader_size:3.2f}%\", end=\"\\r\")\n",
    "\n",
    "        logging.info(f\"Finish iteration {iteration+1:4}, Average loss: {total_loss / dataloader_size}\")\n",
    "    return"
   ],
   "metadata": {
    "collapsed": false
   }
  },
  {
   "cell_type": "code",
   "execution_count": null,
   "outputs": [],
   "source": [
    "def save_model(model_s: SongModel, path) -> None:\n",
    "    torch.save(model_s.state_dict(), path)\n",
    "\n",
    "\n",
    "def load_model(model_l: SongModel, path) -> SongModel:\n",
    "    model_l.load_state_dict(torch.load(path))\n",
    "    model_l.eval()\n",
    "    return model_l\n",
    "\n",
    "logging.info(f\"Something\")"
   ],
   "metadata": {
    "collapsed": false
   }
  }
 ],
 "metadata": {
  "kernelspec": {
   "display_name": "Python 3 (ipykernel)",
   "language": "python",
   "name": "python3"
  },
  "language_info": {
   "codemirror_mode": {
    "name": "ipython",
    "version": 3
   },
   "file_extension": ".py",
   "mimetype": "text/x-python",
   "name": "python",
   "nbconvert_exporter": "python",
   "pygments_lexer": "ipython3",
   "version": "3.9.7"
  }
 },
 "nbformat": 4,
 "nbformat_minor": 5
}
