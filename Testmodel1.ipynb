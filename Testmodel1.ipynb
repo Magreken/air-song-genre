{
 "cells": [
  {
   "cell_type": "code",
   "execution_count": null,
   "metadata": {
    "colab": {
     "base_uri": "https://localhost:8080/"
    },
    "id": "x-IS1MmyecfZ",
    "outputId": "7c1331f1-4d0e-4f95-c8c8-684a83baab28"
   },
   "outputs": [],
   "source": [
    "%pip install -Uq bertopic"
   ]
  },
  {
   "cell_type": "code",
   "execution_count": null,
   "metadata": {
    "colab": {
     "base_uri": "https://localhost:8080/"
    },
    "id": "bO61Ub9FcwXf",
    "outputId": "a6c04854-db5a-40c6-ab70-9b7d409f1d8e"
   },
   "outputs": [],
   "source": [
    "import pandas as pd\n",
    "import nltk\n",
    "import string\n",
    "import umap\n",
    "import hdbscan\n",
    "import bertopic\n",
    "import sentence_transformers\n",
    "import sklearn\n",
    "import numpy as np\n",
    "\n",
    "from bertopic import BERTopic\n",
    "from sentence_transformers import SentenceTransformer\n",
    "from sklearn.feature_extraction.text import CountVectorizer\n",
    "from nltk.corpus import stopwords\n",
    "from nltk.stem.snowball import SnowballStemmer\n",
    "from umap import UMAP\n",
    "from hdbscan import HDBSCAN\n",
    "\n",
    "import random\n",
    "\n",
    "nltk.download('stopwords', quiet=True)\n",
    "nltk.download('punkt', quiet=True)\n"
   ]
  },
  {
   "cell_type": "code",
   "execution_count": null,
   "metadata": {
    "id": "6fVjrP5kFMAP"
   },
   "outputs": [],
   "source": [
    "normalization = 1\n",
    "eliminate_hip_hop = 1\n",
    "generate_fig = 0\n",
    "save_model = 0\n",
    "reduce_outliers = 0"
   ]
  },
  {
   "cell_type": "code",
   "execution_count": null,
   "metadata": {
    "colab": {
     "base_uri": "https://localhost:8080/"
    },
    "id": "Rs75_mJZc2N3",
    "outputId": "0352cb4a-a933-4878-d06e-04cda3672fb6"
   },
   "outputs": [],
   "source": [
    "#Moura, Luan; Fontelles, Emanuel; Sampaio, Vinicius; França, Mardônio (2020), “Music Dataset: Lyrics and Metadata from 1950 to 2019”, Mendeley Data, V2, doi: 10.17632/3t9vbwxgr5.2\n",
    "df = pd.read_csv('data/tcc_ceds_music.csv')\n",
    "\n",
    "print(df.shape, \"\\n\", df.columns)\n",
    "\n",
    "#display(df)"
   ]
  },
  {
   "cell_type": "code",
   "execution_count": null,
   "metadata": {
    "id": "wYnIzbc7dbU3"
   },
   "outputs": [],
   "source": [
    "# df_usage = df.sample(8000)\n",
    "# df_usage.reset_index(inplace = True,drop = True)\n",
    "\n",
    "df_usage = df.copy()\n",
    "\n",
    "#display(df_usage)"
   ]
  },
  {
   "cell_type": "code",
   "execution_count": null,
   "metadata": {
    "colab": {
     "base_uri": "https://localhost:8080/",
     "height": 1000
    },
    "id": "bZMK6qdtN7fU",
    "outputId": "36891a41-911c-41d0-94bb-f11daac82421"
   },
   "outputs": [],
   "source": [
    "if eliminate_hip_hop == 1:\n",
    "  genre_dict = {}\n",
    "  for i in df_usage['genre']:\n",
    "    if i in genre_dict:\n",
    "      genre_dict[i] += 1\n",
    "    else:\n",
    "      genre_dict[i] = 1\n",
    "\n",
    "  for i in genre_dict:\n",
    "    print(i, genre_dict[i])\n",
    "\n",
    "  df_without_hiphop = df_usage[df_usage.genre != \"hip hop\"]\n",
    "  df_usage = df_without_hiphop.copy()\n",
    "  print(\"\\n\")\n",
    "\n",
    "if normalization == 1:\n",
    "  genre_dict = {}\n",
    "  for i in df_usage['genre']:\n",
    "    if i in genre_dict:\n",
    "      genre_dict[i] += 1\n",
    "    else:\n",
    "      genre_dict[i] = 1\n",
    "\n",
    "  for i in genre_dict:\n",
    "    print(i, genre_dict[i])\n",
    "\n",
    "  min_value = min(genre_dict.values())\n",
    "  print(min_value)\n",
    "\n",
    "  new_df = df_usage.groupby('genre').sample(min_value)\n",
    "\n",
    "  new_df = new_df.sample(frac = 1)\n",
    "  new_df.reset_index(inplace = True,drop = True)\n",
    "\n",
    "  display(new_df)\n",
    "\n",
    "  df_usage = new_df.copy()"
   ]
  },
  {
   "cell_type": "code",
   "execution_count": null,
   "metadata": {
    "colab": {
     "base_uri": "https://localhost:8080/"
    },
    "id": "xwbfz3TLc_p-",
    "outputId": "0373e631-c7f0-4fac-f58d-47cd601635e8"
   },
   "outputs": [],
   "source": [
    "eng_stopword_list = nltk.corpus.stopwords.words('english')\n",
    "stemmer = SnowballStemmer(language='english')\n",
    "\n",
    "for lyric_counter in range(len(df_usage[\"lyrics\"])):\n",
    "  \n",
    "  temp_lowercase_tokenize_doc = nltk.word_tokenize(\n",
    "      df_usage[\"lyrics\"][lyric_counter].lower())\n",
    "\n",
    "  for stopword in eng_stopword_list:\n",
    "    if stopword in temp_lowercase_tokenize_doc:\n",
    "      temp_list = []\n",
    "      for elem in temp_lowercase_tokenize_doc:\n",
    "        if elem != stopword:\n",
    "          temp_list.append(elem)\n",
    "      temp_lowercase_tokenize_doc = temp_list\n",
    "   \n",
    "  punctuations = string.punctuation\n",
    "  for symbol in punctuations:\n",
    "    temp_list = []\n",
    "    for elem in temp_lowercase_tokenize_doc: \n",
    "      if symbol != elem:\n",
    "        if symbol in elem:\n",
    "          elem = elem.replace(symbol, '')\n",
    "        temp_list.append(elem)\n",
    "    temp_lowercase_tokenize_doc = temp_list \n",
    "\n",
    "  temp_list = []\n",
    "  for elem in temp_lowercase_tokenize_doc:\n",
    "    temp_list.append(stemmer.stem(elem))\n",
    "  temp_lowercase_tokenize_doc = temp_list\n",
    "\n",
    "  temp_doc = ' '.join(temp_lowercase_tokenize_doc)\n",
    "  df_usage[\"lyrics\"][lyric_counter] = temp_doc\n",
    "\n",
    "  if lyric_counter % 1000 == 0:\n",
    "    print(lyric_counter)\n",
    "\n",
    "#display(df_usage)"
   ]
  },
  {
   "cell_type": "code",
   "execution_count": null,
   "metadata": {
    "colab": {
     "base_uri": "https://localhost:8080/"
    },
    "id": "t0FZ2L40su6h",
    "outputId": "6cc0a3fc-6977-4a59-eb0b-e25757704079"
   },
   "outputs": [],
   "source": [
    "genre_dict = {}\n",
    "for i in df_usage['genre']:\n",
    "  if i in genre_dict:\n",
    "    genre_dict[i] += 1\n",
    "  else:\n",
    "    genre_dict[i] = 1\n",
    "\n",
    "for i in genre_dict:\n",
    "  print(i, genre_dict[i])"
   ]
  },
  {
   "cell_type": "code",
   "execution_count": null,
   "metadata": {
    "colab": {
     "base_uri": "https://localhost:8080/",
     "height": 101,
     "referenced_widgets": [
      "1462b1bbb0c64b47bc681fe6190ab97f",
      "755b1634c32542e1ae41a2be1827f155",
      "4645844a3f7543aba99560cb6a012fe0",
      "27bd573c2fd244b49e0493c7d6830cda",
      "5e68c815832e4355aca19f29fbc184e2",
      "6c7ff8f0afee4dbf85bacc096acebb21",
      "7962726d42164d3f8551baf4fddd3883",
      "1bc3d49f954f43638b865ab9630c4eb5",
      "b0f9768caf76442e9dd3cbd959b75efd",
      "e0da05966590410aaf6e734b3bdb03a0",
      "610ef11fd9c34b0a9b7939bb87cfd215"
     ]
    },
    "id": "QlmYf5DGeocL",
    "outputId": "94d5bb70-4215-4007-bcee-39badb0a2470",
    "scrolled": true
   },
   "outputs": [],
   "source": [
    "umap_model = UMAP(n_neighbors=30, n_components=2, min_dist=0.01)\n",
    "hdbscan_model = HDBSCAN(min_cluster_size=50, min_samples=2, prediction_data=True, cluster_selection_method=\"leaf\")\n",
    "embedding_model = SentenceTransformer('all-MiniLM-L6-v2')\n",
    "\n",
    "model = BERTopic(\n",
    "    embedding_model=embedding_model,\n",
    "    umap_model=umap_model,\n",
    "    language='english',\n",
    "    verbose=True,\n",
    "    hdbscan_model = hdbscan_model\n",
    ")\n",
    "\n",
    "\n",
    "#Comment out next line for loading\n",
    "topics, probs = model.fit_transform(df_usage['lyrics'])"
   ]
  },
  {
   "cell_type": "code",
   "execution_count": null,
   "metadata": {
    "colab": {
     "base_uri": "https://localhost:8080/"
    },
    "id": "osVfKtzSEmBO",
    "outputId": "9cf562c3-15b6-4d4f-b34c-c662faeceab6"
   },
   "outputs": [],
   "source": [
    "print(model.get_topic_info(), \"\\n\")"
   ]
  },
  {
   "cell_type": "code",
   "execution_count": null,
   "metadata": {
    "colab": {
     "base_uri": "https://localhost:8080/",
     "height": 1000
    },
    "id": "bHPR1Gr6favO",
    "outputId": "2902c9c5-ca1b-43b4-ceed-8a5d3c22ae37",
    "scrolled": true
   },
   "outputs": [],
   "source": [
    "if generate_fig == 1:\n",
    "    print(model.get_topic_info(), \"\\n\")\n",
    "\n",
    "    fig = model.visualize_documents(df_usage['lyrics'])\n",
    "    fig.write_html(\"Graph1_1.html\")\n",
    "\n",
    "    fig"
   ]
  },
  {
   "cell_type": "code",
   "execution_count": null,
   "metadata": {
    "id": "SMgOStdxL0nj"
   },
   "outputs": [],
   "source": [
    "if save_model == 1:\n",
    "    model.save(\"Model1_1\")"
   ]
  },
  {
   "cell_type": "code",
   "execution_count": null,
   "metadata": {
    "colab": {
     "base_uri": "https://localhost:8080/"
    },
    "id": "R5CWuAh77oNd",
    "outputId": "5cca9e99-cc28-4d2d-e59f-260d1849979b"
   },
   "outputs": [],
   "source": [
    "if save_model == 1:\n",
    "    model = model.load(\"Model1_1\")\n",
    "    print(model.get_topic_info(), \"\\n\")"
   ]
  },
  {
   "cell_type": "code",
   "execution_count": null,
   "metadata": {
    "colab": {
     "base_uri": "https://localhost:8080/"
    },
    "id": "wKqWAzbaDQVt",
    "outputId": "d9e15e27-c98f-43d0-e20f-85036e7c239a"
   },
   "outputs": [],
   "source": [
    "print(model.get_topic_info())\n",
    "\n",
    "size_param = 25\n",
    "\n",
    "model.reduce_topics(nr_topics=size_param, docs=df_usage[\"lyrics\"])\n",
    "\n",
    "print(model.get_topic_info())"
   ]
  },
  {
   "cell_type": "code",
   "execution_count": null,
   "metadata": {
    "colab": {
     "base_uri": "https://localhost:8080/",
     "height": 1000
    },
    "id": "QPu8I9w1Dkpd",
    "outputId": "dac54721-4275-4a06-da78-3c029999f467"
   },
   "outputs": [],
   "source": [
    "if generate_fig == 1:\n",
    "    print(model.get_topic_info(), \"\\n\")\n",
    "\n",
    "    fig = model.visualize_documents(df_usage['lyrics'])\n",
    "    fig.write_html(\"Graph1_2.html\")\n",
    "\n",
    "    fig"
   ]
  },
  {
   "cell_type": "code",
   "execution_count": null,
   "metadata": {
    "id": "N2cWFCr4H3yg"
   },
   "outputs": [],
   "source": [
    "if save_model == 1:\n",
    "    model.save(\"Model1_2\")"
   ]
  },
  {
   "cell_type": "code",
   "execution_count": null,
   "metadata": {
    "colab": {
     "base_uri": "https://localhost:8080/"
    },
    "id": "IfTnnDNYH704",
    "outputId": "bfa9fa97-0a85-482d-84b5-f95ec7431973"
   },
   "outputs": [],
   "source": [
    "if save_model == 1:\n",
    "    model = model.load(\"Model1_2\")\n",
    "    print(model.get_topic_info(), \"\\n\")"
   ]
  },
  {
   "cell_type": "code",
   "execution_count": null,
   "metadata": {
    "colab": {
     "base_uri": "https://localhost:8080/"
    },
    "id": "gYIVKQvM8k27",
    "outputId": "1a9f66a2-42b6-4607-a0a1-a4c983a2fabc"
   },
   "outputs": [],
   "source": [
    "if reduce_outliers == 1:\n",
    "    new_topics = model.reduce_outliers(documents=df_usage[\"lyrics\"], topics=model.topics_)\n",
    "\n",
    "    model.update_topics(docs=df_usage[\"lyrics\"], topics=new_topics)\n",
    "\n",
    "    print(model.get_topic_info(), \"\\n\")"
   ]
  },
  {
   "cell_type": "code",
   "execution_count": null,
   "metadata": {
    "colab": {
     "base_uri": "https://localhost:8080/",
     "height": 1000
    },
    "id": "A8eK9_rZBNI8",
    "outputId": "9ba98ea2-176c-4f0e-e47a-2f03d2b5faa7"
   },
   "outputs": [],
   "source": [
    "if generate_fig == 1:\n",
    "    print(model.get_topic_info(), \"\\n\")\n",
    "\n",
    "    fig = model.visualize_documents(df_usage['lyrics'])\n",
    "    fig.write_html(\"Graph1_3.html\")\n",
    "\n",
    "    fig"
   ]
  },
  {
   "cell_type": "code",
   "execution_count": null,
   "metadata": {
    "id": "V1udiYN6MtJI"
   },
   "outputs": [],
   "source": [
    "if save_model == 1:\n",
    "    model.save(\"Model1_3\")"
   ]
  },
  {
   "cell_type": "code",
   "execution_count": null,
   "metadata": {
    "colab": {
     "base_uri": "https://localhost:8080/"
    },
    "id": "d16Reo6OMs8Y",
    "outputId": "6217bace-e1c1-4421-9f6c-2bf974dfaf40"
   },
   "outputs": [],
   "source": [
    "if save_model == 1:\n",
    "    model = model.load(\"Model1_3\")\n",
    "    print(model.get_topic_info(), \"\\n\")"
   ]
  },
  {
   "cell_type": "code",
   "execution_count": null,
   "metadata": {
    "colab": {
     "base_uri": "https://localhost:8080/"
    },
    "id": "Ldm6uWQfXy3U",
    "outputId": "d286b648-97c6-4212-9b30-1ba5022826dc"
   },
   "outputs": [],
   "source": [
    "print(model.get_topic_info(), \"\\n\")\n",
    "\n",
    "topic_dict = model.get_topics()\n",
    "topic_genre_index_zip = list(zip(model.topics_, df_usage[\"genre\"]))\n",
    "\n",
    "genre_list = df_usage['genre'].unique()\n",
    "frequency_arr = np.zeros((len(topic_dict),len(genre_list)))\n",
    "\n",
    "genre_dict = {}\n",
    "for index in range(len(genre_list)):\n",
    "  genre_dict[genre_list[index]] = index\n",
    "\n",
    "for elem in genre_dict:\n",
    "  print(elem, genre_dict[elem])\n",
    "\n",
    "for index in range(len(topic_genre_index_zip)):\n",
    "  frequency_arr[topic_genre_index_zip[index][0]][genre_dict[topic_genre_index_zip[index][1]]] += 1\n",
    "\n",
    "print(\"\\n\")\n",
    "\n",
    "output = pd.DataFrame(frequency_arr, columns = genre_list)\n",
    "\n",
    "print(output)"
   ]
  },
  {
   "cell_type": "code",
   "execution_count": null,
   "metadata": {
    "colab": {
     "base_uri": "https://localhost:8080/"
    },
    "id": "W49XgRyFS9wG",
    "outputId": "6684cf51-6a3e-4e6c-982f-6cf0620ec2d2"
   },
   "outputs": [],
   "source": [
    "eng_stopword_list = nltk.corpus.stopwords.words('english')\n",
    "stemmer = SnowballStemmer(language='english')\n",
    "\n",
    "for lyric_counter in range(len(df_usage[\"track_name\"])):\n",
    "  \n",
    "  temp_lowercase_tokenize_doc = nltk.word_tokenize(\n",
    "      df_usage[\"track_name\"][lyric_counter].lower())\n",
    "   \n",
    "  punctuations = string.punctuation\n",
    "  for symbol in punctuations:\n",
    "    temp_list = []\n",
    "    for elem in temp_lowercase_tokenize_doc: \n",
    "      if symbol != elem:\n",
    "        if symbol in elem:\n",
    "          elem = elem.replace(symbol, '')\n",
    "        temp_list.append(elem)\n",
    "    temp_lowercase_tokenize_doc = temp_list \n",
    "\n",
    "  temp_doc = ' '.join(temp_lowercase_tokenize_doc)\n",
    "  df_usage[\"track_name\"][lyric_counter] = temp_doc\n",
    "\n",
    "  if lyric_counter % 1000 == 0:\n",
    "    print(lyric_counter)\n"
   ]
  },
  {
   "cell_type": "code",
   "execution_count": null,
   "metadata": {
    "colab": {
     "base_uri": "https://localhost:8080/",
     "height": 461
    },
    "id": "SbLxZhhhOjkV",
    "outputId": "c9838f66-ace6-4f7a-861e-a9aae6f5d322"
   },
   "outputs": [],
   "source": [
    "print(model.get_topics())\n",
    "\n",
    "topic_dict2 = model.get_topics()\n",
    "\n",
    "topic_dict2_pre_process = {}\n",
    "\n",
    "for key in topic_dict2:\n",
    "  topic_str = \"\"\n",
    "  for elem in topic_dict2[key]:\n",
    "    topic_str += (elem[0] + \" \")\n",
    "\n",
    "  topic_str = topic_str.rstrip(topic_str[-1])\n",
    "  topic_dict2_pre_process[key] = topic_str\n",
    "\n",
    "topic_title_genre_index_zip = list(zip(model.topics_, df_usage[\"track_name\"], df_usage[\"genre\"]))\n",
    "\n",
    "topictitle_genre_arr = []\n",
    "for elem in topic_title_genre_index_zip:\n",
    "  if elem[0] != -1:\n",
    "    temp_list = topic_dict2_pre_process[elem[0]].split(\" \")\n",
    "    random.shuffle(temp_list)\n",
    "    shuffle_topic = ' '.join(temp_list)\n",
    "    topictitle_str = shuffle_topic + \" \" + elem[1]\n",
    "    topictitle_genre_arr.append((elem[2], topictitle_str))\n",
    "\n",
    "output_test = pd.DataFrame(topictitle_genre_arr, columns = [\"genre\", \"topictitle\"])\n",
    "\n",
    "display(output_test)\n",
    "\n"
   ]
  },
  {
   "cell_type": "code",
   "execution_count": null,
   "metadata": {},
   "outputs": [],
   "source": [
    "output_test.to_csv(\"genre_topic_titel.csv\", index=False)"
   ]
  },
  {
   "cell_type": "code",
   "execution_count": null,
   "metadata": {},
   "outputs": [],
   "source": []
  }
 ],
 "metadata": {
  "colab": {
   "provenance": []
  },
  "kernelspec": {
   "display_name": "Python 3 (ipykernel)",
   "language": "python",
   "name": "python3"
  },
  "language_info": {
   "codemirror_mode": {
    "name": "ipython",
    "version": 3
   },
   "file_extension": ".py",
   "mimetype": "text/x-python",
   "name": "python",
   "nbconvert_exporter": "python",
   "pygments_lexer": "ipython3",
   "version": "3.10.7"
  },
  "widgets": {
   "application/vnd.jupyter.widget-state+json": {
    "1462b1bbb0c64b47bc681fe6190ab97f": {
     "model_module": "@jupyter-widgets/controls",
     "model_module_version": "1.5.0",
     "model_name": "HBoxModel",
     "state": {
      "_dom_classes": [],
      "_model_module": "@jupyter-widgets/controls",
      "_model_module_version": "1.5.0",
      "_model_name": "HBoxModel",
      "_view_count": null,
      "_view_module": "@jupyter-widgets/controls",
      "_view_module_version": "1.5.0",
      "_view_name": "HBoxView",
      "box_style": "",
      "children": [
       "IPY_MODEL_755b1634c32542e1ae41a2be1827f155",
       "IPY_MODEL_4645844a3f7543aba99560cb6a012fe0",
       "IPY_MODEL_27bd573c2fd244b49e0493c7d6830cda"
      ],
      "layout": "IPY_MODEL_5e68c815832e4355aca19f29fbc184e2"
     }
    },
    "1bc3d49f954f43638b865ab9630c4eb5": {
     "model_module": "@jupyter-widgets/base",
     "model_module_version": "1.2.0",
     "model_name": "LayoutModel",
     "state": {
      "_model_module": "@jupyter-widgets/base",
      "_model_module_version": "1.2.0",
      "_model_name": "LayoutModel",
      "_view_count": null,
      "_view_module": "@jupyter-widgets/base",
      "_view_module_version": "1.2.0",
      "_view_name": "LayoutView",
      "align_content": null,
      "align_items": null,
      "align_self": null,
      "border": null,
      "bottom": null,
      "display": null,
      "flex": null,
      "flex_flow": null,
      "grid_area": null,
      "grid_auto_columns": null,
      "grid_auto_flow": null,
      "grid_auto_rows": null,
      "grid_column": null,
      "grid_gap": null,
      "grid_row": null,
      "grid_template_areas": null,
      "grid_template_columns": null,
      "grid_template_rows": null,
      "height": null,
      "justify_content": null,
      "justify_items": null,
      "left": null,
      "margin": null,
      "max_height": null,
      "max_width": null,
      "min_height": null,
      "min_width": null,
      "object_fit": null,
      "object_position": null,
      "order": null,
      "overflow": null,
      "overflow_x": null,
      "overflow_y": null,
      "padding": null,
      "right": null,
      "top": null,
      "visibility": null,
      "width": null
     }
    },
    "27bd573c2fd244b49e0493c7d6830cda": {
     "model_module": "@jupyter-widgets/controls",
     "model_module_version": "1.5.0",
     "model_name": "HTMLModel",
     "state": {
      "_dom_classes": [],
      "_model_module": "@jupyter-widgets/controls",
      "_model_module_version": "1.5.0",
      "_model_name": "HTMLModel",
      "_view_count": null,
      "_view_module": "@jupyter-widgets/controls",
      "_view_module_version": "1.5.0",
      "_view_name": "HTMLView",
      "description": "",
      "description_tooltip": null,
      "layout": "IPY_MODEL_e0da05966590410aaf6e734b3bdb03a0",
      "placeholder": "​",
      "style": "IPY_MODEL_610ef11fd9c34b0a9b7939bb87cfd215",
      "value": " 198/198 [06:52&lt;00:00,  2.96it/s]"
     }
    },
    "4645844a3f7543aba99560cb6a012fe0": {
     "model_module": "@jupyter-widgets/controls",
     "model_module_version": "1.5.0",
     "model_name": "FloatProgressModel",
     "state": {
      "_dom_classes": [],
      "_model_module": "@jupyter-widgets/controls",
      "_model_module_version": "1.5.0",
      "_model_name": "FloatProgressModel",
      "_view_count": null,
      "_view_module": "@jupyter-widgets/controls",
      "_view_module_version": "1.5.0",
      "_view_name": "ProgressView",
      "bar_style": "success",
      "description": "",
      "description_tooltip": null,
      "layout": "IPY_MODEL_1bc3d49f954f43638b865ab9630c4eb5",
      "max": 198,
      "min": 0,
      "orientation": "horizontal",
      "style": "IPY_MODEL_b0f9768caf76442e9dd3cbd959b75efd",
      "value": 198
     }
    },
    "5e68c815832e4355aca19f29fbc184e2": {
     "model_module": "@jupyter-widgets/base",
     "model_module_version": "1.2.0",
     "model_name": "LayoutModel",
     "state": {
      "_model_module": "@jupyter-widgets/base",
      "_model_module_version": "1.2.0",
      "_model_name": "LayoutModel",
      "_view_count": null,
      "_view_module": "@jupyter-widgets/base",
      "_view_module_version": "1.2.0",
      "_view_name": "LayoutView",
      "align_content": null,
      "align_items": null,
      "align_self": null,
      "border": null,
      "bottom": null,
      "display": null,
      "flex": null,
      "flex_flow": null,
      "grid_area": null,
      "grid_auto_columns": null,
      "grid_auto_flow": null,
      "grid_auto_rows": null,
      "grid_column": null,
      "grid_gap": null,
      "grid_row": null,
      "grid_template_areas": null,
      "grid_template_columns": null,
      "grid_template_rows": null,
      "height": null,
      "justify_content": null,
      "justify_items": null,
      "left": null,
      "margin": null,
      "max_height": null,
      "max_width": null,
      "min_height": null,
      "min_width": null,
      "object_fit": null,
      "object_position": null,
      "order": null,
      "overflow": null,
      "overflow_x": null,
      "overflow_y": null,
      "padding": null,
      "right": null,
      "top": null,
      "visibility": null,
      "width": null
     }
    },
    "610ef11fd9c34b0a9b7939bb87cfd215": {
     "model_module": "@jupyter-widgets/controls",
     "model_module_version": "1.5.0",
     "model_name": "DescriptionStyleModel",
     "state": {
      "_model_module": "@jupyter-widgets/controls",
      "_model_module_version": "1.5.0",
      "_model_name": "DescriptionStyleModel",
      "_view_count": null,
      "_view_module": "@jupyter-widgets/base",
      "_view_module_version": "1.2.0",
      "_view_name": "StyleView",
      "description_width": ""
     }
    },
    "6c7ff8f0afee4dbf85bacc096acebb21": {
     "model_module": "@jupyter-widgets/base",
     "model_module_version": "1.2.0",
     "model_name": "LayoutModel",
     "state": {
      "_model_module": "@jupyter-widgets/base",
      "_model_module_version": "1.2.0",
      "_model_name": "LayoutModel",
      "_view_count": null,
      "_view_module": "@jupyter-widgets/base",
      "_view_module_version": "1.2.0",
      "_view_name": "LayoutView",
      "align_content": null,
      "align_items": null,
      "align_self": null,
      "border": null,
      "bottom": null,
      "display": null,
      "flex": null,
      "flex_flow": null,
      "grid_area": null,
      "grid_auto_columns": null,
      "grid_auto_flow": null,
      "grid_auto_rows": null,
      "grid_column": null,
      "grid_gap": null,
      "grid_row": null,
      "grid_template_areas": null,
      "grid_template_columns": null,
      "grid_template_rows": null,
      "height": null,
      "justify_content": null,
      "justify_items": null,
      "left": null,
      "margin": null,
      "max_height": null,
      "max_width": null,
      "min_height": null,
      "min_width": null,
      "object_fit": null,
      "object_position": null,
      "order": null,
      "overflow": null,
      "overflow_x": null,
      "overflow_y": null,
      "padding": null,
      "right": null,
      "top": null,
      "visibility": null,
      "width": null
     }
    },
    "755b1634c32542e1ae41a2be1827f155": {
     "model_module": "@jupyter-widgets/controls",
     "model_module_version": "1.5.0",
     "model_name": "HTMLModel",
     "state": {
      "_dom_classes": [],
      "_model_module": "@jupyter-widgets/controls",
      "_model_module_version": "1.5.0",
      "_model_name": "HTMLModel",
      "_view_count": null,
      "_view_module": "@jupyter-widgets/controls",
      "_view_module_version": "1.5.0",
      "_view_name": "HTMLView",
      "description": "",
      "description_tooltip": null,
      "layout": "IPY_MODEL_6c7ff8f0afee4dbf85bacc096acebb21",
      "placeholder": "​",
      "style": "IPY_MODEL_7962726d42164d3f8551baf4fddd3883",
      "value": "Batches: 100%"
     }
    },
    "7962726d42164d3f8551baf4fddd3883": {
     "model_module": "@jupyter-widgets/controls",
     "model_module_version": "1.5.0",
     "model_name": "DescriptionStyleModel",
     "state": {
      "_model_module": "@jupyter-widgets/controls",
      "_model_module_version": "1.5.0",
      "_model_name": "DescriptionStyleModel",
      "_view_count": null,
      "_view_module": "@jupyter-widgets/base",
      "_view_module_version": "1.2.0",
      "_view_name": "StyleView",
      "description_width": ""
     }
    },
    "b0f9768caf76442e9dd3cbd959b75efd": {
     "model_module": "@jupyter-widgets/controls",
     "model_module_version": "1.5.0",
     "model_name": "ProgressStyleModel",
     "state": {
      "_model_module": "@jupyter-widgets/controls",
      "_model_module_version": "1.5.0",
      "_model_name": "ProgressStyleModel",
      "_view_count": null,
      "_view_module": "@jupyter-widgets/base",
      "_view_module_version": "1.2.0",
      "_view_name": "StyleView",
      "bar_color": null,
      "description_width": ""
     }
    },
    "e0da05966590410aaf6e734b3bdb03a0": {
     "model_module": "@jupyter-widgets/base",
     "model_module_version": "1.2.0",
     "model_name": "LayoutModel",
     "state": {
      "_model_module": "@jupyter-widgets/base",
      "_model_module_version": "1.2.0",
      "_model_name": "LayoutModel",
      "_view_count": null,
      "_view_module": "@jupyter-widgets/base",
      "_view_module_version": "1.2.0",
      "_view_name": "LayoutView",
      "align_content": null,
      "align_items": null,
      "align_self": null,
      "border": null,
      "bottom": null,
      "display": null,
      "flex": null,
      "flex_flow": null,
      "grid_area": null,
      "grid_auto_columns": null,
      "grid_auto_flow": null,
      "grid_auto_rows": null,
      "grid_column": null,
      "grid_gap": null,
      "grid_row": null,
      "grid_template_areas": null,
      "grid_template_columns": null,
      "grid_template_rows": null,
      "height": null,
      "justify_content": null,
      "justify_items": null,
      "left": null,
      "margin": null,
      "max_height": null,
      "max_width": null,
      "min_height": null,
      "min_width": null,
      "object_fit": null,
      "object_position": null,
      "order": null,
      "overflow": null,
      "overflow_x": null,
      "overflow_y": null,
      "padding": null,
      "right": null,
      "top": null,
      "visibility": null,
      "width": null
     }
    }
   }
  }
 },
 "nbformat": 4,
 "nbformat_minor": 1
}
